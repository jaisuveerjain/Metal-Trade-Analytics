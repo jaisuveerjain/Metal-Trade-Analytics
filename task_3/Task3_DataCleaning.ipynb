{
  "nbformat": 4,
  "nbformat_minor": 0,
  "metadata": {
    "colab": {
      "provenance": []
    },
    "kernelspec": {
      "name": "python3",
      "display_name": "Python 3"
    },
    "language_info": {
      "name": "python"
    }
  },
  "cells": [
    {
      "cell_type": "code",
      "execution_count": 3,
      "metadata": {
        "colab": {
          "base_uri": "https://localhost:8080/"
        },
        "id": "6funYYl0h5Js",
        "outputId": "6a647db9-af8b-4604-f5bd-49cd76fb6c23"
      },
      "outputs": [
        {
          "output_type": "stream",
          "name": "stdout",
          "text": [
            "Data cleaning and standardization completed. Cleaned files saved.\n"
          ]
        }
      ],
      "source": [
        "import pandas as pd\n",
        "\n",
        "def clean_and_standardize_data(supplier_file1, supplier_file2, buyer_file):\n",
        "    # Loading the datasets\n",
        "    supplier_data1 = pd.read_csv(supplier_file1)\n",
        "    supplier_data2 = pd.read_csv(supplier_file2)\n",
        "    buyer_preferences = pd.read_csv(buyer_file)\n",
        "\n",
        "    # Standardizing column names for Supplier Data 1\n",
        "    supplier_data1.rename(columns={\n",
        "        \"Thickness__mm_\": \"Thickness_mm\",\n",
        "        \"Width__mm_\": \"Width_mm\",\n",
        "        \"Gross_weight__kg_\": \"Weight_kg\"\n",
        "    }, inplace=True)\n",
        "\n",
        "    # Standardizing column names for Supplier Data 2\n",
        "    supplier_data2.rename(columns={\n",
        "        \"Weight__kg_\": \"Weight_kg\"\n",
        "    }, inplace=True)\n",
        "\n",
        "    # Standardizing column names for Buyer Preferences\n",
        "    buyer_preferences.rename(columns={\n",
        "        \"Preferred_Thickness__mm_\": \"Thickness_mm\",\n",
        "        \"Preferred_Width__mm_\": \"Width_mm\",\n",
        "        \"Max_Weight__kg_\": \"Weight_kg\",\n",
        "        \"Min_Quantity\": \"Quantity\"\n",
        "    }, inplace=True)\n",
        "\n",
        "    return supplier_data1, supplier_data2, buyer_preferences\n",
        "\n",
        "supplier_data1_cleaned, supplier_data2_cleaned, buyer_preferences_cleaned = clean_and_standardize_data(\n",
        "    \"supplier_data1.csv\", \"supplier_data2.csv\", \"buyer_preferences.csv\"\n",
        ")\n",
        "\n",
        "# Saving the cleaned datasets\n",
        "supplier_data1_cleaned.to_csv(\"cleaned_supplier_data1.csv\", index=False)\n",
        "supplier_data2_cleaned.to_csv(\"cleaned_supplier_data2.csv\", index=False)\n",
        "buyer_preferences_cleaned.to_csv(\"cleaned_buyer_preferences.csv\", index=False)\n",
        "\n",
        "print(\"Data cleaning and standardization completed. Cleaned files saved.\")\n"
      ]
    }
  ]
}